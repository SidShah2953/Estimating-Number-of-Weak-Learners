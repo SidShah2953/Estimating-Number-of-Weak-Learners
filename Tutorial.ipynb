{
 "cells": [
  {
   "cell_type": "code",
   "execution_count": 1,
   "metadata": {},
   "outputs": [],
   "source": [
    "from sklearn.datasets import load_iris\n",
    "from sklearn.ensemble import RandomForestClassifier\n",
    "from sklearn.model_selection import train_test_split\n",
    "from sklearn.metrics import accuracy_score\n",
    "from scipy.stats import norm\n",
    "import numpy as np"
   ]
  },
  {
   "cell_type": "markdown",
   "metadata": {},
   "source": [
    "# Import Data"
   ]
  },
  {
   "cell_type": "markdown",
   "metadata": {},
   "source": [
    "We start by importing the Iris dataset. \n",
    "\n",
    "Since we are representing our single classifier as a Bernoulli trial, this is a binary classification problem. The Iris dataset has three labels, so we drop the data that is labelled $0$."
   ]
  },
  {
   "cell_type": "code",
   "execution_count": 5,
   "metadata": {},
   "outputs": [],
   "source": [
    "iris = load_iris()\n",
    "iris = iris\n",
    "X = iris.data\n",
    "y = iris.target\n",
    "\n",
    "X = X[y != 0]\n",
    "y = y[y != 0]"
   ]
  },
  {
   "cell_type": "markdown",
   "metadata": {},
   "source": [
    "We then split it into training and testing sets of equal size."
   ]
  },
  {
   "cell_type": "code",
   "execution_count": null,
   "metadata": {},
   "outputs": [],
   "source": [
    "X_train, X_test, y_train, y_test = \\\n",
    "    train_test_split(X,\n",
    "                        y, \n",
    "                        test_size=0.5, \n",
    "                        random_state=42)"
   ]
  },
  {
   "cell_type": "markdown",
   "metadata": {},
   "source": [
    "# Approximations"
   ]
  },
  {
   "cell_type": "code",
   "execution_count": 3,
   "metadata": {},
   "outputs": [],
   "source": [
    "def approx_learner_dist(max_depth):\n",
    "    accuracies = []\n",
    "    for i in range(100):\n",
    "        # Train a Random Forest with a single tree\n",
    "        clf = RandomForestClassifier(\n",
    "                    max_depth=max_depth,\n",
    "                    n_estimators=1, \n",
    "                    random_state=i\n",
    "                )\n",
    "        clf.fit(X_train, y_train)\n",
    "\n",
    "        # Make predictions\n",
    "        y_pred = clf.predict(X_test)\n",
    "        acc = accuracy_score(y_test, y_pred)\n",
    "        accuracy_score.append(acc)\n",
    "        del clf\n",
    "    \n",
    "    return np.array(accuracies)"
   ]
  },
  {
   "cell_type": "code",
   "execution_count": 4,
   "metadata": {},
   "outputs": [],
   "source": [
    "def find_actual_number(target, max_depth):\n",
    "    N_actual = 1\n",
    "    temp = 0\n",
    "    while temp < target:\n",
    "        clf = RandomForestClassifier(\n",
    "                    max_depth=max_depth,\n",
    "                    n_estimators=N_actual, \n",
    "                    random_state=42\n",
    "                )\n",
    "        clf.fit(X_train, y_train)\n",
    "\n",
    "        # Make predictions\n",
    "        y_pred = clf.predict(X_test)\n",
    "        temp = accuracy_score(y_true=y_test, y_pred=y_pred)\n",
    "        N_actual += 2\n",
    "        del clf\n",
    "    \n",
    "    return N_actual\n",
    "\n",
    "\n",
    "def approximate(mu_p, sigma_p, N, approx, type=None):\n",
    "    def binom_approx(mu_p, N, type):\n",
    "        prob = None\n",
    "        if type == 'small':\n",
    "            prob = norm.cdf((2 * mu_p - 1) * ((N + 1) / 2) ** 2)\n",
    "        elif type == 'large':\n",
    "            prob = norm.cdf((N * (2 * mu_p - 1) + 1) / (2 * (N * mu_p * (1 - mu_p)) ** 0.5))\n",
    "        \n",
    "        return prob\n",
    "\n",
    "    def poisson_approx(mu_p, N):\n",
    "        prob = norm.cdf((2 * mu_p - 1) * ((N + 1) / 2) ** 2)\n",
    "        return prob\n",
    "\n",
    "    def normal_approx(mu_p, sigma_p, N):\n",
    "        prob = norm.cdf((N * (2 * mu_p - 1) + 1) / (2 * (N * (mu_p - sigma_p^2 - mu_p^2)) ** 0.5))\n",
    "        return prob\n",
    "    \n",
    "    if approx == 'binomial':\n",
    "        return binom_approx(mu_p=mu_p,\n",
    "                            N=N,\n",
    "                            type=type)\n",
    "    elif approx == 'poisson':\n",
    "        return poisson_approx(mu_p=mu_p,\n",
    "                                N=N)\n",
    "    elif approx == 'normal':\n",
    "        return normal_approx(mu_p=mu_p,\n",
    "                                sigma_p=sigma_p,\n",
    "                                N=N)\n",
    "    return None"
   ]
  }
 ],
 "metadata": {
  "kernelspec": {
   "display_name": "projects",
   "language": "python",
   "name": "python3"
  },
  "language_info": {
   "codemirror_mode": {
    "name": "ipython",
    "version": 3
   },
   "file_extension": ".py",
   "mimetype": "text/x-python",
   "name": "python",
   "nbconvert_exporter": "python",
   "pygments_lexer": "ipython3",
   "version": "3.12.8"
  }
 },
 "nbformat": 4,
 "nbformat_minor": 2
}
